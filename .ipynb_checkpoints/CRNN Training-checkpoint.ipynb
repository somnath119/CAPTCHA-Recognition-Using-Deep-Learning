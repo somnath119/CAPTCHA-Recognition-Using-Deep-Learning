{
 "cells": [
  {
   "cell_type": "code",
   "execution_count": 1,
   "metadata": {},
   "outputs": [],
   "source": [
    "import glob\n",
    "import os \n",
    "import string\n",
    "from pathlib import Path\n",
    "\n",
    "from PIL import Image\n",
    "import numpy as np\n",
    "import torch\n",
    "import torch.nn as nn\n",
    "import torch.nn.functional as F\n",
    "from torch.utils.data import DataLoader, Dataset\n",
    "from torchvision import transforms\n",
    "from torchvision.models import resnet18\n",
    "import matplotlib.pyplot as plt\n",
    "\n",
    "from utils.utils import strLabelConverter, decode_prediction\n",
    "from utils.plotting import plot_loss, print_prediction\n",
    "from layers import blockCNN, blockRNN"
   ]
  },
  {
   "cell_type": "code",
   "execution_count": 2,
   "metadata": {},
   "outputs": [
    {
     "data": {
      "text/plain": [
       "<torch._C.Generator at 0x7f7b97efcd30>"
      ]
     },
     "execution_count": 2,
     "metadata": {},
     "output_type": "execute_result"
    }
   ],
   "source": [
    "device = torch.device('cuda' if torch.cuda.is_available() else 'cpu')\n",
    "torch.manual_seed(0)"
   ]
  },
  {
   "cell_type": "code",
   "execution_count": 3,
   "metadata": {},
   "outputs": [],
   "source": [
    "%matplotlib inline\n",
    "plt.style.use('seaborn')"
   ]
  },
  {
   "cell_type": "markdown",
   "metadata": {},
   "source": [
    "#### <center>  Dataset"
   ]
  },
  {
   "cell_type": "code",
   "execution_count": 4,
   "metadata": {},
   "outputs": [],
   "source": [
    "class CaptchaDataset(Dataset):\n",
    "    def __init__(self, img_dir: str):\n",
    "        pathes = os.listdir(img_dir)\n",
    "        abspath = os.path.abspath(img_dir)\n",
    "        self.img_dir = img_dir\n",
    "        self.pathes = [os.path.join(abspath, path) for path in pathes]\n",
    "        self.list_transforms = transforms.Compose([transforms.ToTensor()])\n",
    "        \n",
    "    def __len__(self):\n",
    "        return len(self.pathes)\n",
    "    \n",
    "    def __getitem__(self, idx):\n",
    "        path = self.pathes[idx]\n",
    "        text = self.get_filename(path)\n",
    "        img = Image.open(path).convert('RGB')\n",
    "        img = self.transform(img)\n",
    "        return img, text\n",
    "    \n",
    "    def get_filename(self, path: str) -> str:\n",
    "        return os.path.basename(path).split('.')[0].lower().strip()\n",
    "    \n",
    "    def transform(self, img) -> torch.Tensor:\n",
    "        return self.list_transforms(img)"
   ]
  },
  {
   "cell_type": "markdown",
   "metadata": {},
   "source": [
    "<center> Dataset Params"
   ]
  },
  {
   "cell_type": "code",
   "execution_count": 12,
   "metadata": {},
   "outputs": [],
   "source": [
    "TRAIN_DIR = Path('data/train')\n",
    "VAL_DIR = Path('data/val')\n",
    "BATCH_SIZE = 8\n",
    "MODEL_PATH = Path('models/crnn.pt')\n",
    "N_WORKERS = 4"
   ]
  },
  {
   "cell_type": "code",
   "execution_count": 37,
   "metadata": {},
   "outputs": [
    {
     "data": {
      "text/plain": [
       "torch.float32"
      ]
     },
     "execution_count": 37,
     "metadata": {},
     "output_type": "execute_result"
    }
   ],
   "source": [
    "batch_imgs.dtype"
   ]
  },
  {
   "cell_type": "code",
   "execution_count": 13,
   "metadata": {},
   "outputs": [
    {
     "data": {
      "text/plain": [
       "'abcdefghijklmnopqrstuvwxyz0123456789'"
      ]
     },
     "execution_count": 13,
     "metadata": {},
     "output_type": "execute_result"
    }
   ],
   "source": [
    "alphabet = string.ascii_lowercase + string.digits\n",
    "label_converter = strLabelConverter(alphabet)\n",
    "alphabet"
   ]
  },
  {
   "cell_type": "code",
   "execution_count": 14,
   "metadata": {},
   "outputs": [],
   "source": [
    "train_dataset = CaptchaDataset(TRAIN_DIR)\n",
    "val_dataset = CaptchaDataset(VAL_DIR)\n",
    "train_dataloader = DataLoader(train_dataset, batch_size=BATCH_SIZE, \n",
    "                              num_workers=N_WORKERS, shuffle=True)\n",
    "val_dataloader = DataLoader(val_dataset, batch_size=BATCH_SIZE, \n",
    "                            num_workers=N_WORKERS, shuffle=False)"
   ]
  },
  {
   "cell_type": "code",
   "execution_count": 15,
   "metadata": {},
   "outputs": [
    {
     "name": "stdout",
     "output_type": "stream",
     "text": [
      "torch.Size([8, 3, 50, 200]) 8\n"
     ]
    }
   ],
   "source": [
    "imgs, texts = iter(val_dataloader).next()\n",
    "print(imgs.shape, len(texts))"
   ]
  },
  {
   "cell_type": "markdown",
   "metadata": {},
   "source": [
    "#### <center> Model"
   ]
  },
  {
   "cell_type": "code",
   "execution_count": 16,
   "metadata": {},
   "outputs": [],
   "source": [
    "def weights_init(m):\n",
    "    classname = m.__class__.__name__\n",
    "    if type(m) in [nn.Linear, nn.Conv2d, nn.Conv1d]:\n",
    "        torch.nn.init.xavier_uniform_(m.weight)\n",
    "        m.bias.data.fill_(0.01)\n",
    "    elif classname.find('BatchNorm') != -1:\n",
    "        m.weight.data.normal_(1.0, 0.02)\n",
    "        m.bias.data.fill_(0)"
   ]
  },
  {
   "cell_type": "code",
   "execution_count": 18,
   "metadata": {},
   "outputs": [],
   "source": [
    "class CRNN(nn.Module):\n",
    "    def __init__(self, hidden_size: int, \n",
    "                 vocab_size: int, \n",
    "                 bidirectional: bool = True, \n",
    "                 dropout: float = 0.5):\n",
    "        super(CRNN, self).__init__()\n",
    "        self.hidden_size = hidden_size\n",
    "        self.vocab_size = vocab_size\n",
    "        self.bidirectional = bidirectional\n",
    "        # make layers\n",
    "        # convolutions \n",
    "        resnet = resnet18(pretrained=True)\n",
    "        modules = list(resnet.children())[:-3]\n",
    "        self.resnet = nn.Sequential(*modules)\n",
    "\n",
    "        self.cn6 = blockCNN(256, 256, kernel_size=3, padding=1)\n",
    "        # RNN + Linear\n",
    "        self.linear1 = nn.Linear(1024, 256)\n",
    "        self.gru1 = blockRNN(256, hidden_size, hidden_size,\n",
    "                             dropout=dropout, \n",
    "                             bidirectional=bidirectional)\n",
    "        self.gru2 = blockRNN(hidden_size, hidden_size, vocab_size,\n",
    "                             dropout=dropout,\n",
    "                             bidirectional=bidirectional)\n",
    "        self.linear2 = nn.Linear(hidden_size * 2, vocab_size)\n",
    "        \n",
    "    def forward(self, batch: torch.Tensor):\n",
    "        \"\"\"\n",
    "        ------:size sequence:------\n",
    "        torch.Size([batch_size, 3, 50, 200]) -- IN:\n",
    "        torch.Size([batch_size, 256, 4, 13]) -- CNN blocks ended\n",
    "        torch.Size([batch_size, 13, 256, 4]) -- permuted \n",
    "        torch.Size([batch_size, 13, 1024]) -- Linear #1\n",
    "        torch.Size([batch_size, 13, 256]) -- IN GRU \n",
    "        torch.Size([batch_size, 13, 256]) -- OUT GRU \n",
    "        torch.Size([batch_size, 13, vocab_size]) -- Linear #2\n",
    "        torch.Size([13, batch_size, vocab_size]) -- :OUT\n",
    "        \"\"\"\n",
    "        batch_size = batch.size(0)\n",
    "        # convolutions\n",
    "        batch = self.resnet(batch)\n",
    "        batch = self.cn6(batch, use_relu=True, use_bn=True)\n",
    "        # make sequences of image features\n",
    "        batch = batch.permute(0, 3, 1, 2)\n",
    "        n_channels = batch.size(1)\n",
    "        batch = batch.view(batch_size, n_channels, -1)\n",
    "        batch = self.linear1(batch)\n",
    "        # rnn layers\n",
    "        batch = self.gru1(batch, add_output=True)\n",
    "        batch = self.gru2(batch)\n",
    "        # output\n",
    "        batch = self.linear2(batch)\n",
    "        batch = batch.permute(1, 0, 2)\n",
    "        return batch"
   ]
  },
  {
   "cell_type": "markdown",
   "metadata": {},
   "source": [
    "#### <center>  Model Parameters and Initialization"
   ]
  },
  {
   "cell_type": "code",
   "execution_count": 19,
   "metadata": {},
   "outputs": [
    {
     "name": "stdout",
     "output_type": "stream",
     "text": [
      "37\n"
     ]
    }
   ],
   "source": [
    "hidden_size = 256\n",
    "vocab_size = len(alphabet) + 1 # extra character for blank symbol\n",
    "bidirectional = True\n",
    "dropout = 0.1\n",
    "weight_decay = 1e-5\n",
    "momentum = 0.9\n",
    "clip_norm = 5\n",
    "max_epoch = 50\n",
    "print(vocab_size)"
   ]
  },
  {
   "cell_type": "code",
   "execution_count": 20,
   "metadata": {},
   "outputs": [
    {
     "data": {
      "text/plain": [
       "torch.Size([13, 8, 37])"
      ]
     },
     "execution_count": 20,
     "metadata": {},
     "output_type": "execute_result"
    }
   ],
   "source": [
    "crnn = CRNN(hidden_size=hidden_size, vocab_size=vocab_size, \n",
    "            bidirectional=bidirectional, dropout=dropout).to(device)\n",
    "crnn(imgs.to(device)).shape"
   ]
  },
  {
   "cell_type": "code",
   "execution_count": 21,
   "metadata": {},
   "outputs": [],
   "source": [
    "lr = 0.02\n",
    "optimizer = torch.optim.SGD(crnn.parameters(), lr=lr, nesterov=True, \n",
    "                            weight_decay=weight_decay, momentum=momentum)\n",
    "critertion = nn.CTCLoss(blank=0)\n",
    "scheduler = torch.optim.lr_scheduler.ReduceLROnPlateau(optimizer, verbose=True, patience=5)"
   ]
  },
  {
   "cell_type": "code",
   "execution_count": 22,
   "metadata": {},
   "outputs": [],
   "source": [
    "def validation(model, val_losses, label_converter):\n",
    "    with torch.no_grad():\n",
    "        model.eval()\n",
    "        for batch_img, batch_text in val_dataloader:\n",
    "            logits = crnn(batch_img.to(device))\n",
    "            val_loss = calculate_loss(logits, batch_text, label_converter)\n",
    "            val_losses.append(val_loss.item())\n",
    "    return val_losses"
   ]
  },
  {
   "cell_type": "code",
   "execution_count": 24,
   "metadata": {},
   "outputs": [],
   "source": [
    "def calculate_loss(logits, texts, label_converter):\n",
    "    # get infomation from prediction\n",
    "    device = logits.device\n",
    "    input_len, batch_size, vocab_size = logits.size()\n",
    "    # encode inputs\n",
    "    logits = logits.log_softmax(2)\n",
    "    encoded_texts, text_lens = label_converter.encode(texts)\n",
    "    logits_lens = torch.full(size=(batch_size,), fill_value=input_len, dtype=torch.int32)\n",
    "    # calculate ctc\n",
    "    loss = critertion(logits, encoded_texts, \n",
    "                      logits_lens.to(device), text_lens)\n",
    "    return loss"
   ]
  },
  {
   "cell_type": "markdown",
   "metadata": {},
   "source": [
    "#### <center> Training"
   ]
  },
  {
   "cell_type": "code",
   "execution_count": 25,
   "metadata": {},
   "outputs": [],
   "source": [
    "epoch = 0"
   ]
  },
  {
   "cell_type": "code",
   "execution_count": 26,
   "metadata": {},
   "outputs": [
    {
     "data": {
      "text/plain": [
       "26"
      ]
     },
     "execution_count": 26,
     "metadata": {},
     "output_type": "execute_result"
    }
   ],
   "source": [
    "train_losses = []\n",
    "val_losses = []\n",
    "val_epoch_len = len(val_dataset) // BATCH_SIZE\n",
    "val_epoch_len"
   ]
  },
  {
   "cell_type": "code",
   "execution_count": 33,
   "metadata": {
    "scrolled": false
   },
   "outputs": [
    {
     "data": {
      "image/png": "[encoded data removed]",
      "text/plain": [
       "<Figure size 576x396 with 1 Axes>"
      ]
     },
     "metadata": {},
     "output_type": "display_data"
    },
    {
     "data": {
      "image/png": "[encoded data removed]",
      "text/plain": [
       "<Figure size 864x432 with 2 Axes>"
      ]
     },
     "metadata": {},
     "output_type": "display_data"
    },
    {
     "data": {
      "image/png": "[encoded data removed]",
      "text/plain": [
       "<Figure size 576x396 with 1 Axes>"
      ]
     },
     "metadata": {},
     "output_type": "display_data"
    }
   ],
   "source": [
    "try:\n",
    "    while epoch <= max_epoch:\n",
    "        crnn.train()\n",
    "        for idx, (batch_imgs, batch_text) in enumerate(train_dataloader):\n",
    "            optimizer.zero_grad()\n",
    "            logits = crnn(batch_imgs.to(device))\n",
    "            # calculate loss\n",
    "            train_loss = calculate_loss(logits, batch_text, label_converter)\n",
    "            if np.isnan(train_loss.detach().cpu().numpy()):\n",
    "                continue\n",
    "            train_losses.append(train_loss.item())\n",
    "            # make backward\n",
    "            train_loss.backward()\n",
    "\n",
    "            nn.utils.clip_grad_norm_(crnn.parameters(), clip_norm)\n",
    "            optimizer.step()\n",
    "\n",
    "        val_losses = validation(crnn, val_losses, label_converter)\n",
    "        \n",
    "        # printing progress\n",
    "        plot_loss(epoch, train_losses, val_losses)\n",
    "        print_prediction(crnn, val_dataset, device, label_converter)\n",
    "        \n",
    "        scheduler.step(val_losses[-1])\n",
    "        epoch += 1\n",
    "except KeyboardInterrupt:\n",
    "    pass"
   ]
  },
  {
   "cell_type": "code",
   "execution_count": 28,
   "metadata": {},
   "outputs": [],
   "source": [
    "# saving model\n",
    "torch.save(crnn.state_dict(), MODEL_PATH)"
   ]
  },
  {
   "cell_type": "markdown",
   "metadata": {},
   "source": [
    "#### <center> Calculating Accuracy and printing prediction"
   ]
  },
  {
   "cell_type": "code",
   "execution_count": 23,
   "metadata": {},
   "outputs": [],
   "source": [
    "def acc_calc(model, dataset, label_converter) -> float:\n",
    "    acc = 0\n",
    "    with torch.no_grad():\n",
    "        model.eval()\n",
    "        for idx in range(len(dataset)):\n",
    "            img, text = dataset[idx]\n",
    "            logits = model(img.unsqueeze(0).to(device))\n",
    "            pred_text = decode_prediction(logits.cpu(), label_converter)\n",
    "            \n",
    "            if pred_text == text:\n",
    "                acc += 1\n",
    "            \n",
    "    return acc / len(dataset)"
   ]
  },
  {
   "cell_type": "code",
   "execution_count": 30,
   "metadata": {},
   "outputs": [
    {
     "data": {
      "image/png": "[encoded data removed]",
      "text/plain": [
       "<Figure size 576x396 with 1 Axes>"
      ]
     },
     "metadata": {},
     "output_type": "display_data"
    }
   ],
   "source": [
    "print_prediction(crnn, val_dataset, device, label_converter)"
   ]
  },
  {
   "cell_type": "code",
   "execution_count": 34,
   "metadata": {},
   "outputs": [
    {
     "name": "stdout",
     "output_type": "stream",
     "text": [
      "Validaton Accuracy:  0.8364485981308412\n",
      "Training Accuracy:  0.9287383177570093\n"
     ]
    }
   ],
   "source": [
    "val_acc = acc_calc(crnn, val_dataset, label_converter)\n",
    "train_acc = acc_calc(crnn, train_dataset, label_converter)\n",
    "print('Validaton Accuracy: ', val_acc)\n",
    "print('Training Accuracy: ', train_acc)"
   ]
  },
  {
   "cell_type": "code",
   "execution_count": null,
   "metadata": {},
   "outputs": [],
   "source": []
  }
 ],
 "metadata": {
  "kernelspec": {
   "display_name": "Python 3",
   "language": "python",
   "name": "python3"
  },
  "language_info": {
   "codemirror_mode": {
    "name": "ipython",
    "version": 3
   },
   "file_extension": ".py",
   "mimetype": "text/x-python",
   "name": "python",
   "nbconvert_exporter": "python",
   "pygments_lexer": "ipython3",
   "version": "3.7.7"
  },
  "toc": {
   "base_numbering": 1,
   "nav_menu": {},
   "number_sections": true,
   "sideBar": true,
   "skip_h1_title": false,
   "title_cell": "Table of Contents",
   "title_sidebar": "Contents",
   "toc_cell": false,
   "toc_position": {},
   "toc_section_display": true,
   "toc_window_display": false
  }
 },
 "nbformat": 4,
 "nbformat_minor": 2
}
